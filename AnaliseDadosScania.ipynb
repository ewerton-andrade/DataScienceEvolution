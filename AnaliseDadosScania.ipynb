{
  "nbformat": 4,
  "nbformat_minor": 0,
  "metadata": {
    "colab": {
      "provenance": [],
      "toc_visible": true,
      "authorship_tag": "ABX9TyN+4/qAAzFX5s2BgtNmQh2y",
      "include_colab_link": true
    },
    "kernelspec": {
      "name": "python3",
      "display_name": "Python 3"
    },
    "language_info": {
      "name": "python"
    }
  },
  "cells": [
    {
      "cell_type": "markdown",
      "metadata": {
        "id": "view-in-github",
        "colab_type": "text"
      },
      "source": [
        "<a href=\"https://colab.research.google.com/github/ewerton-andrade/DataScienceEvolution/blob/main/AnaliseDadosScania.ipynb\" target=\"_parent\"><img src=\"https://colab.research.google.com/assets/colab-badge.svg\" alt=\"Open In Colab\"/></a>"
      ]
    },
    {
      "cell_type": "markdown",
      "source": [
        "#Carregando o arquivo de dados"
      ],
      "metadata": {
        "id": "fPea2zTyVch6"
      }
    },
    {
      "cell_type": "code",
      "execution_count": null,
      "metadata": {
        "id": "2vEFH2_y5QlE"
      },
      "outputs": [],
      "source": [
        "from google.colab import files\n",
        "\n",
        "uploaded = files.upload()"
      ]
    },
    {
      "cell_type": "markdown",
      "source": [
        "#Read and transform data into data frame"
      ],
      "metadata": {
        "id": "HRarmbvUVgd3"
      }
    },
    {
      "cell_type": "code",
      "source": [
        "file_name = \"nome_do_arquivo.csv\"\n",
        "df = pd.read_csv(file_name)"
      ],
      "metadata": {
        "id": "nGoL0GDOVYi_"
      },
      "execution_count": null,
      "outputs": []
    }
  ]
}